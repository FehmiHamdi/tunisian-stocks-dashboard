{
 "cells": [
  {
   "cell_type": "code",
   "execution_count": 2,
   "id": "50aaff8a",
   "metadata": {},
   "outputs": [
    {
     "data": {
      "text/html": [
       "<div>\n",
       "<style scoped>\n",
       "    .dataframe tbody tr th:only-of-type {\n",
       "        vertical-align: middle;\n",
       "    }\n",
       "\n",
       "    .dataframe tbody tr th {\n",
       "        vertical-align: top;\n",
       "    }\n",
       "\n",
       "    .dataframe thead th {\n",
       "        text-align: right;\n",
       "    }\n",
       "</style>\n",
       "<table border=\"1\" class=\"dataframe\">\n",
       "  <thead>\n",
       "    <tr style=\"text-align: right;\">\n",
       "      <th></th>\n",
       "      <th>Ticker</th>\n",
       "      <th>Date</th>\n",
       "      <th>Open</th>\n",
       "      <th>High</th>\n",
       "      <th>Low</th>\n",
       "      <th>Close</th>\n",
       "      <th>Volume</th>\n",
       "    </tr>\n",
       "  </thead>\n",
       "  <tbody>\n",
       "    <tr>\n",
       "      <th>0</th>\n",
       "      <td>AB</td>\n",
       "      <td>2022-10-24</td>\n",
       "      <td>24.58</td>\n",
       "      <td>24.58</td>\n",
       "      <td>24.58</td>\n",
       "      <td>24.58</td>\n",
       "      <td>130</td>\n",
       "    </tr>\n",
       "    <tr>\n",
       "      <th>1</th>\n",
       "      <td>AB</td>\n",
       "      <td>2022-10-26</td>\n",
       "      <td>23.90</td>\n",
       "      <td>24.58</td>\n",
       "      <td>23.90</td>\n",
       "      <td>23.90</td>\n",
       "      <td>14301</td>\n",
       "    </tr>\n",
       "    <tr>\n",
       "      <th>2</th>\n",
       "      <td>AB</td>\n",
       "      <td>2022-10-27</td>\n",
       "      <td>24.58</td>\n",
       "      <td>24.58</td>\n",
       "      <td>24.57</td>\n",
       "      <td>24.58</td>\n",
       "      <td>505</td>\n",
       "    </tr>\n",
       "    <tr>\n",
       "      <th>3</th>\n",
       "      <td>AB</td>\n",
       "      <td>2022-10-28</td>\n",
       "      <td>24.58</td>\n",
       "      <td>24.58</td>\n",
       "      <td>24.09</td>\n",
       "      <td>24.58</td>\n",
       "      <td>5882</td>\n",
       "    </tr>\n",
       "    <tr>\n",
       "      <th>4</th>\n",
       "      <td>AB</td>\n",
       "      <td>2022-10-31</td>\n",
       "      <td>24.58</td>\n",
       "      <td>24.58</td>\n",
       "      <td>24.57</td>\n",
       "      <td>24.58</td>\n",
       "      <td>1240</td>\n",
       "    </tr>\n",
       "  </tbody>\n",
       "</table>\n",
       "</div>"
      ],
      "text/plain": [
       "  Ticker        Date   Open   High    Low  Close  Volume\n",
       "0     AB  2022-10-24  24.58  24.58  24.58  24.58     130\n",
       "1     AB  2022-10-26  23.90  24.58  23.90  23.90   14301\n",
       "2     AB  2022-10-27  24.58  24.58  24.57  24.58     505\n",
       "3     AB  2022-10-28  24.58  24.58  24.09  24.58    5882\n",
       "4     AB  2022-10-31  24.58  24.58  24.57  24.58    1240"
      ]
     },
     "execution_count": 2,
     "metadata": {},
     "output_type": "execute_result"
    }
   ],
   "source": [
    "import pandas as pd\n",
    "# Load the dataset\n",
    "df = pd.read_csv(\"../data/ALL_DATA.csv\")\n",
    "df.head()"
   ]
  },
  {
   "cell_type": "code",
   "execution_count": 5,
   "id": "8e7c5a41",
   "metadata": {},
   "outputs": [
    {
     "name": "stdout",
     "output_type": "stream",
     "text": [
      "<class 'pandas.core.frame.DataFrame'>\n",
      "RangeIndex: 187987 entries, 0 to 187986\n",
      "Data columns (total 7 columns):\n",
      " #   Column  Non-Null Count   Dtype  \n",
      "---  ------  --------------   -----  \n",
      " 0   Ticker  187987 non-null  object \n",
      " 1   Date    187987 non-null  object \n",
      " 2   Open    187965 non-null  float64\n",
      " 3   High    187965 non-null  float64\n",
      " 4   Low     187960 non-null  float64\n",
      " 5   Close   187965 non-null  float64\n",
      " 6   Volume  187987 non-null  int64  \n",
      "dtypes: float64(4), int64(1), object(2)\n",
      "memory usage: 10.0+ MB\n"
     ]
    }
   ],
   "source": [
    "df.info()"
   ]
  },
  {
   "cell_type": "code",
   "execution_count": 6,
   "id": "82ae5159",
   "metadata": {},
   "outputs": [
    {
     "data": {
      "text/html": [
       "<div>\n",
       "<style scoped>\n",
       "    .dataframe tbody tr th:only-of-type {\n",
       "        vertical-align: middle;\n",
       "    }\n",
       "\n",
       "    .dataframe tbody tr th {\n",
       "        vertical-align: top;\n",
       "    }\n",
       "\n",
       "    .dataframe thead th {\n",
       "        text-align: right;\n",
       "    }\n",
       "</style>\n",
       "<table border=\"1\" class=\"dataframe\">\n",
       "  <thead>\n",
       "    <tr style=\"text-align: right;\">\n",
       "      <th></th>\n",
       "      <th>Open</th>\n",
       "      <th>High</th>\n",
       "      <th>Low</th>\n",
       "      <th>Close</th>\n",
       "      <th>Volume</th>\n",
       "    </tr>\n",
       "  </thead>\n",
       "  <tbody>\n",
       "    <tr>\n",
       "      <th>count</th>\n",
       "      <td>187965.000000</td>\n",
       "      <td>187965.000000</td>\n",
       "      <td>187960.000000</td>\n",
       "      <td>187965.000000</td>\n",
       "      <td>1.879870e+05</td>\n",
       "    </tr>\n",
       "    <tr>\n",
       "      <th>mean</th>\n",
       "      <td>15.343251</td>\n",
       "      <td>15.440103</td>\n",
       "      <td>15.241624</td>\n",
       "      <td>15.360728</td>\n",
       "      <td>1.454330e+04</td>\n",
       "    </tr>\n",
       "    <tr>\n",
       "      <th>std</th>\n",
       "      <td>31.804620</td>\n",
       "      <td>31.935038</td>\n",
       "      <td>31.673683</td>\n",
       "      <td>31.821089</td>\n",
       "      <td>7.824436e+04</td>\n",
       "    </tr>\n",
       "    <tr>\n",
       "      <th>min</th>\n",
       "      <td>0.120000</td>\n",
       "      <td>0.130000</td>\n",
       "      <td>0.120000</td>\n",
       "      <td>0.120000</td>\n",
       "      <td>0.000000e+00</td>\n",
       "    </tr>\n",
       "    <tr>\n",
       "      <th>25%</th>\n",
       "      <td>3.570000</td>\n",
       "      <td>3.600000</td>\n",
       "      <td>3.513823</td>\n",
       "      <td>3.575000</td>\n",
       "      <td>4.300000e+02</td>\n",
       "    </tr>\n",
       "    <tr>\n",
       "      <th>50%</th>\n",
       "      <td>7.200000</td>\n",
       "      <td>7.250000</td>\n",
       "      <td>7.121073</td>\n",
       "      <td>7.200000</td>\n",
       "      <td>2.341000e+03</td>\n",
       "    </tr>\n",
       "    <tr>\n",
       "      <th>75%</th>\n",
       "      <td>14.480000</td>\n",
       "      <td>14.530000</td>\n",
       "      <td>14.390000</td>\n",
       "      <td>14.490000</td>\n",
       "      <td>9.150000e+03</td>\n",
       "    </tr>\n",
       "    <tr>\n",
       "      <th>max</th>\n",
       "      <td>602.750000</td>\n",
       "      <td>602.750000</td>\n",
       "      <td>602.750000</td>\n",
       "      <td>602.750000</td>\n",
       "      <td>8.264824e+06</td>\n",
       "    </tr>\n",
       "  </tbody>\n",
       "</table>\n",
       "</div>"
      ],
      "text/plain": [
       "                Open           High            Low          Close  \\\n",
       "count  187965.000000  187965.000000  187960.000000  187965.000000   \n",
       "mean       15.343251      15.440103      15.241624      15.360728   \n",
       "std        31.804620      31.935038      31.673683      31.821089   \n",
       "min         0.120000       0.130000       0.120000       0.120000   \n",
       "25%         3.570000       3.600000       3.513823       3.575000   \n",
       "50%         7.200000       7.250000       7.121073       7.200000   \n",
       "75%        14.480000      14.530000      14.390000      14.490000   \n",
       "max       602.750000     602.750000     602.750000     602.750000   \n",
       "\n",
       "             Volume  \n",
       "count  1.879870e+05  \n",
       "mean   1.454330e+04  \n",
       "std    7.824436e+04  \n",
       "min    0.000000e+00  \n",
       "25%    4.300000e+02  \n",
       "50%    2.341000e+03  \n",
       "75%    9.150000e+03  \n",
       "max    8.264824e+06  "
      ]
     },
     "execution_count": 6,
     "metadata": {},
     "output_type": "execute_result"
    }
   ],
   "source": [
    "df.describe()"
   ]
  },
  {
   "cell_type": "code",
   "execution_count": 7,
   "id": "96299054",
   "metadata": {},
   "outputs": [
    {
     "data": {
      "text/plain": [
       "Index(['Ticker', 'Date', 'Open', 'High', 'Low', 'Close', 'Volume'], dtype='object')"
      ]
     },
     "execution_count": 7,
     "metadata": {},
     "output_type": "execute_result"
    }
   ],
   "source": [
    "df.columns"
   ]
  },
  {
   "cell_type": "code",
   "execution_count": 12,
   "id": "a6ce120b",
   "metadata": {},
   "outputs": [
    {
     "data": {
      "text/plain": [
       "0        2022-10-24\n",
       "1        2022-10-26\n",
       "2        2022-10-27\n",
       "3        2022-10-28\n",
       "4        2022-10-31\n",
       "            ...    \n",
       "187982   2012-04-27\n",
       "187983   2012-04-30\n",
       "187984   2012-05-02\n",
       "187985   2012-05-03\n",
       "187986   2012-05-04\n",
       "Name: Date, Length: 187987, dtype: datetime64[ns]"
      ]
     },
     "execution_count": 12,
     "metadata": {},
     "output_type": "execute_result"
    }
   ],
   "source": [
    "df['Date']"
   ]
  },
  {
   "cell_type": "code",
   "execution_count": 11,
   "id": "a3a76323",
   "metadata": {},
   "outputs": [],
   "source": [
    "df['Date'] = pd.to_datetime(df['Date'])"
   ]
  },
  {
   "cell_type": "code",
   "execution_count": 18,
   "id": "7056e022",
   "metadata": {},
   "outputs": [],
   "source": [
    "df.sort_values(by='Date', inplace=True)"
   ]
  },
  {
   "cell_type": "code",
   "execution_count": 15,
   "id": "c1c06226",
   "metadata": {},
   "outputs": [
    {
     "data": {
      "text/plain": [
       "array(['CIL', 'TINV', 'AL', 'BIAT', 'SOTUV', 'TPR', 'WIFAK', 'MNP',\n",
       "       'SITS', 'ASSAD', 'STAR', 'BNA', 'SPDIT', 'BH', 'TJARI', 'ARTES',\n",
       "       'AST', 'UBCI', 'SIMPA', 'TLS', 'BTE', 'MAG', 'AMS', 'ADWYA', 'BT',\n",
       "       'UIB', 'SFBT', 'STPIL', 'SOTET', 'ATB', 'GIF', 'STB', 'SOPAT',\n",
       "       'ELBEN', 'PGH', 'TAIR', 'SOMOC', 'SCB', 'TJL', 'STIP', 'MGR',\n",
       "       'SIAME', 'ATL', 'AB', 'SOKNA', 'PLTU', 'SIPHA', 'ICF', 'LSTR',\n",
       "       'STEQ', 'SERVI', 'ALKIM', 'BHASS', 'TRE', 'CC', 'NAKL', 'BHL',\n",
       "       'TLNET', 'XABYT', 'LNDOR', 'AETEC', 'NBL', 'OTH', 'SPHAX', 'ECYCL',\n",
       "       'HL', 'BL', 'CITY', 'SAH', 'MPBS', 'SOTEM', 'CELL', 'STPAP', 'TGH',\n",
       "       'MIP', 'DH', 'CREAL', 'UADH', 'PLAST', 'AMI', 'UMED', 'SMD', 'SAM',\n",
       "       'TVAL', 'ASSMA', 'SMART', 'STA', 'AMV'], dtype=object)"
      ]
     },
     "execution_count": 15,
     "metadata": {},
     "output_type": "execute_result"
    }
   ],
   "source": [
    "df['Ticker'].unique()\n"
   ]
  },
  {
   "cell_type": "code",
   "execution_count": 16,
   "id": "9c785983",
   "metadata": {},
   "outputs": [
    {
     "data": {
      "text/plain": [
       "Ticker     0\n",
       "Date       0\n",
       "Open      22\n",
       "High      22\n",
       "Low       27\n",
       "Close     22\n",
       "Volume     0\n",
       "dtype: int64"
      ]
     },
     "execution_count": 16,
     "metadata": {},
     "output_type": "execute_result"
    }
   ],
   "source": [
    "df.isnull().sum()"
   ]
  },
  {
   "cell_type": "code",
   "execution_count": 17,
   "id": "18f43aa7",
   "metadata": {},
   "outputs": [
    {
     "data": {
      "text/plain": [
       "np.int64(2095)"
      ]
     },
     "execution_count": 17,
     "metadata": {},
     "output_type": "execute_result"
    }
   ],
   "source": [
    "df.duplicated().sum()"
   ]
  },
  {
   "cell_type": "code",
   "execution_count": 20,
   "id": "23ce6e93",
   "metadata": {},
   "outputs": [],
   "source": [
    "df.dropna(inplace=True)\n",
    "df.drop_duplicates(inplace=True)"
   ]
  },
  {
   "cell_type": "code",
   "execution_count": 21,
   "id": "b9b906ac",
   "metadata": {},
   "outputs": [
    {
     "name": "stdout",
     "output_type": "stream",
     "text": [
      "Ticker    0\n",
      "Date      0\n",
      "Open      0\n",
      "High      0\n",
      "Low       0\n",
      "Close     0\n",
      "Volume    0\n",
      "dtype: int64\n",
      "0\n"
     ]
    }
   ],
   "source": [
    "print(df.isnull().sum())\n",
    "print(df.duplicated().sum())"
   ]
  },
  {
   "cell_type": "code",
   "execution_count": 22,
   "id": "a54704a2",
   "metadata": {},
   "outputs": [],
   "source": [
    "df.to_csv(\"../data/ALL_DATA_cleaned.csv\", index=False)"
   ]
  },
  {
   "cell_type": "code",
   "execution_count": 24,
   "id": "968c0d95",
   "metadata": {},
   "outputs": [
    {
     "data": {
      "image/png": "[encoded data removed]",
      "text/plain": [
       "<Figure size 640x480 with 1 Axes>"
      ]
     },
     "metadata": {},
     "output_type": "display_data"
    }
   ],
   "source": [
    "import matplotlib.pyplot as plt\n",
    "\n",
    "sample = df[df['Ticker'] == 'AB'] \n",
    "plt.plot(sample['Date'], sample['Close'])\n",
    "plt.title(\"AB Closing Prices\")\n",
    "plt.xlabel(\"Date\")\n",
    "plt.ylabel(\"Price\")\n",
    "plt.grid()\n",
    "plt.show()"
   ]
  }
 ],
 "metadata": {
  "kernelspec": {
   "display_name": "venv",
   "language": "python",
   "name": "python3"
  },
  "language_info": {
   "codemirror_mode": {
    "name": "ipython",
    "version": 3
   },
   "file_extension": ".py",
   "mimetype": "text/x-python",
   "name": "python",
   "nbconvert_exporter": "python",
   "pygments_lexer": "ipython3",
   "version": "3.12.6"
  }
 },
 "nbformat": 4,
 "nbformat_minor": 5
}
